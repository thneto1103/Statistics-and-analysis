{
 "cells": [
  {
   "cell_type": "code",
   "execution_count": 10,
   "metadata": {},
   "outputs": [
    {
     "name": "stdout",
     "output_type": "stream",
     "text": [
      "    Code FormalEducatedPopulation\n",
      "0    ALB                       98\n",
      "1    ALB                       99\n",
      "2    DZA                       84\n",
      "3    DZA                       87\n",
      "4    ARG                       98\n",
      "..   ...                      ...\n",
      "323  VUT                       89\n",
      "324  VEN                       96\n",
      "325  VEN                       97\n",
      "326  VNM                       95\n",
      "327  VNM                       95\n",
      "\n",
      "[328 rows x 2 columns]\n"
     ]
    }
   ],
   "source": [
    "import pandas as pd\n",
    "import numpy as np \n",
    "import matplotlib.pyplot as plt\n",
    "import seaborn as sns\n",
    "\n",
    "EducatedPopulationDf = pd.read_csv(\"FormalEducatedPopulation.csv\")\n",
    "EducatedPopulationDf = EducatedPopulationDf.dropna(subset = [\"Code\"])\n",
    "EducatedPopulationDf = EducatedPopulationDf.dropna(subset = [\"FormalEducatedPopulation\"])\n",
    "EducatedPopulationDf = EducatedPopulationDf.reset_index(drop = True)\n",
    "print(EducatedPopulationDf)\n"
   ]
  }
 ],
 "metadata": {
  "kernelspec": {
   "display_name": "base",
   "language": "python",
   "name": "python3"
  },
  "language_info": {
   "codemirror_mode": {
    "name": "ipython",
    "version": 3
   },
   "file_extension": ".py",
   "mimetype": "text/x-python",
   "name": "python",
   "nbconvert_exporter": "python",
   "pygments_lexer": "ipython3",
   "version": "3.11.5"
  }
 },
 "nbformat": 4,
 "nbformat_minor": 2
}
